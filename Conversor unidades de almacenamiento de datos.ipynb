{
 "cells": [
  {
   "cell_type": "code",
   "execution_count": 8,
   "metadata": {},
   "outputs": [
    {
     "name": "stdout",
     "output_type": "stream",
     "text": [
      "Ingrese unidad de medida: b\n",
      "Ingrese medida de almacenamiento: 5\n",
      "0.625 B\n",
      "0.0006103515625 K\n",
      "5.960464477539062e-07 M\n"
     ]
    }
   ],
   "source": [
    "import numpy as np\n",
    "import math\n",
    "b = input(\"Ingrese unidad de medida: \")\n",
    "a = float(input(\"Ingrese medida de almacenamiento: \"))\n",
    "if(b==\"b\"):\n",
    "    print ((a/8),\"B\")\n",
    "    print(a/(np.power(2,13)),\"K\")\n",
    "    print(a/(np.power(2,23)),\"M\")\n",
    "elif(b==\"B\"):\n",
    "    print ((a*8),\"b\")\n",
    "    print (np.power(2,10)*a,\"K\")\n",
    "    print (np.power(2,20)*a,\"M\")\n",
    "elif(b==\"K\"):\n",
    "    print(a/(np.power(2,10)),\"M\")\n",
    "    print(a*(8*(np.power(2,10))),\"b\")\n",
    "    print(a*(np.power(2,10)),\"B\")\n",
    "elif(b==\"M\"):\n",
    "    print (a*(8*(np.power(2,20))),\"b\")\n",
    "    print (a*(np.power(2,20)),\"B\")\n",
    "    print (a*(np.power(2,10)),\"K\")\n",
    "else:\n",
    "    print(\"Unidad invalida\")"
   ]
  }
 ],
 "metadata": {
  "kernelspec": {
   "display_name": "Python 3",
   "language": "python",
   "name": "python3"
  },
  "language_info": {
   "codemirror_mode": {
    "name": "ipython",
    "version": 3
   },
   "file_extension": ".py",
   "mimetype": "text/x-python",
   "name": "python",
   "nbconvert_exporter": "python",
   "pygments_lexer": "ipython3",
   "version": "3.7.6"
  }
 },
 "nbformat": 4,
 "nbformat_minor": 4
}
